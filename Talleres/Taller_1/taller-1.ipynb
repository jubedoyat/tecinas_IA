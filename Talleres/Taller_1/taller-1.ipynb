{
 "cells": [
  {
   "cell_type": "code",
   "execution_count": 8,
   "id": "1343efd2-c998-4ae5-b974-e40380f788a0",
   "metadata": {},
   "outputs": [],
   "source": [
  '# Importa la biblioteca NumPy para operaciones numéricas'
  'import numpy as np'
  '# Importa la biblioteca OpenCV para procesamiento de imágenes y visión computacional'
  import cv2 as cv'
  '# Importa el módulo "sys" para interactuar con el sistema operativo'
  'import sys'
   ]
  },
  {
   "cell_type": "code",
   "execution_count": 9,
   "id": "c0033b85-15f1-4cca-a4c4-ee0b0ce4e9f5",
   "metadata": {},
   "outputs": [],
   "source": [
    "diaSoleado = cv.imread('/home/juan/Documentos/Documentos_UN/2024-1/Clases/Tecnicas_de_IA/Taller_1/dia-soleado.jpeg', cv.IMREAD_GRAYSCALE).flatten()\n",
    "diaSombra = cv.imread('/home/juan/Documentos/Documentos_UN/2024-1/Clases/Tecnicas_de_IA/Taller_1/dia-sombra.jpeg', cv.IMREAD_GRAYSCALE).flatten()\n",
    "interior = cv.imread('/home/juan/Documentos/Documentos_UN/2024-1/Clases/Tecnicas_de_IA/Taller_1/interior.jpeg', cv.IMREAD_GRAYSCALE).flatten()"
   ]
  },
  {
   "cell_type": "code",
   "execution_count": 10,
   "id": "6bb00372-2179-4996-8f65-a8bfcc27e0c5",
   "metadata": {},
   "outputs": [],
   "source": [
    "def compareHistograms(a, b):\n",
    "    comparisons = []\n",
    "    for method in range(4):\n",
    "        d = cv.compareHist(a, b, method)\n",
    "        comparisons.append(d)\n",
    "    return comparisons"
   ]
  },
  {
   "cell_type": "code",
   "execution_count": 11,
   "id": "c15a2b21-d1fa-46f0-a528-dd1222f06063",
   "metadata": {},
   "outputs": [],
   "source": [
    "def normalizeHistogram(hist):\n",
    "    cdf = hist.cumsum()\n",
    "    return cdf * hist.max() / cdf.max()"
   ]
  },
  {
   "cell_type": "code",
   "execution_count": 18,
   "id": "9dbd0a7b-e9bd-4c32-b453-6da2d3497a47",
   "metadata": {},
   "outputs": [],
   "source": [
    "def compareImagesHists(img1, img2, bins):\n",
    "    currentHistImg1, bins1 = np.histogram(img1, bins, [0, 256])\n",
    "    currentHistImg2, bins2 = np.histogram(img2, bins, [0, 256])\n",
    "\n",
    "    currNormalizedHist1 = normalizeHistogram(currentHistImg1).astype(np.float32)\n",
    "    currNormalizedHist2 = normalizeHistogram(currentHistImg2).astype(np.float32)\n",
    "\n",
    "    comps = compareHistograms(currNormalizedHist1, currNormalizedHist2)\n",
    "\n",
    "    print('--------------------------------------------------')\n",
    "    \n",
    "    for i in range(4):\n",
    "        if i == 0:\n",
    "            print('Por correlación: {}'.format(comps[i]))\n",
    "        if i == 1:\n",
    "            print('Por chi-cuadrado: {}'.format(comps[i]))\n",
    "        if i == 2:\n",
    "            print('Por intersección: {}'.format(comps[i]))\n",
    "        if i == 3:\n",
    "            print('Por distancia Bhattacharyya: {}'.format(comps[i]))"
   ]
  },
  {
   "cell_type": "code",
   "execution_count": 20,
   "id": "51fdb3fc-0668-41ad-a5f3-5d2d38d4bbd2",
   "metadata": {},
   "outputs": [
    {
     "name": "stdout",
     "output_type": "stream",
     "text": [
      "Comparación de día soleado y día nublado con 2 bins\n",
      "--------------------------------------------------\n",
      "Por correlación: 1.0000000000000002\n",
      "Por chi-cuadrado: 17254260.085680082\n",
      "Por intersección: 9573364.328125\n",
      "Por distancia Bhattacharyya: 0.2202493675215074\n",
      "\n",
      "\n",
      "Comparación de día soleado y día nublado con 16 bins\n",
      "--------------------------------------------------\n",
      "Por correlación: 0.6272711746079962\n",
      "Por chi-cuadrado: 2364867287.781772\n",
      "Por intersección: 20168777.26902485\n",
      "Por distancia Bhattacharyya: 0.37211919416838646\n",
      "\n",
      "\n",
      "Comparación de día soleado y día nublado con 256 bins\n",
      "--------------------------------------------------\n",
      "Por correlación: 0.6132607182761116\n",
      "Por chi-cuadrado: 4728702927.184073\n",
      "Por intersección: 35907789.47052467\n",
      "Por distancia Bhattacharyya: 0.37324473405961744\n",
      "\n",
      "\n",
      "Comparación de día soleado e interior con 2 bins\n",
      "--------------------------------------------------\n",
      "Por correlación: 1.0\n",
      "Por chi-cuadrado: 7965200.043531894\n",
      "Por intersección: 10583952.328125\n",
      "Por distancia Bhattacharyya: 0.1642773235622931\n",
      "\n",
      "\n",
      "Comparación de día soleado e interior con 16 bins\n",
      "--------------------------------------------------\n",
      "Por correlación: 0.936375715614341\n",
      "Por chi-cuadrado: 79687462.6687573\n",
      "Por intersección: 21873998.76902485\n",
      "Por distancia Bhattacharyya: 0.20608522740530452\n",
      "\n",
      "\n",
      "Comparación de día soleado e interior con 256 bins\n",
      "--------------------------------------------------\n",
      "Por correlación: 0.9067206709315347\n",
      "Por chi-cuadrado: 224509200.60421848\n",
      "Por intersección: 44007067.81427467\n",
      "Por distancia Bhattacharyya: 0.217864900841999\n",
      "\n",
      "\n",
      "Comparación de día nublado e interior con 2 bins\n",
      "--------------------------------------------------\n",
      "Por correlación: 1.0\n",
      "Por chi-cuadrado: 286637.2002158065\n",
      "Por intersección: 10905203.0\n",
      "Por distancia Bhattacharyya: 0.0564855212127083\n",
      "\n",
      "\n",
      "Comparación de día nublado e interior con 16 bins\n",
      "--------------------------------------------------\n",
      "Por correlación: 0.7135553216017356\n",
      "Por chi-cuadrado: 13945741.361305086\n",
      "Por intersección: 26508945.810791016\n",
      "Por distancia Bhattacharyya: 0.25366316126658145\n",
      "\n",
      "\n",
      "Comparación de día nublado e interior con 256 bins\n",
      "--------------------------------------------------\n",
      "Por correlación: 0.7133606501570557\n",
      "Por chi-cuadrado: 23848570.984750517\n",
      "Por intersección: 46131572.462389946\n",
      "Por distancia Bhattacharyya: 0.25563895840261214\n",
      "\n",
      "\n"
     ]
    }
   ],
   "source": [
    "print('Comparación de día soleado y día nublado con 2 bins')\n",
    "compareImagesHists(diaSoleado, diaSombra, 2)\n",
    "print('\\n')\n",
    "print('Comparación de día soleado y día nublado con 16 bins')\n",
    "compareImagesHists(diaSoleado, diaSombra, 16)\n",
    "print('\\n')\n",
    "print('Comparación de día soleado y día nublado con 256 bins')\n",
    "compareImagesHists(diaSoleado, diaSombra, 256)\n",
    "print('\\n')\n",
    "\n",
    "print('Comparación de día soleado e interior con 2 bins')\n",
    "compareImagesHists(diaSoleado, interior, 2)\n",
    "print('\\n')\n",
    "print('Comparación de día soleado e interior con 16 bins')\n",
    "compareImagesHists(diaSoleado, interior, 16)\n",
    "print('\\n')\n",
    "print('Comparación de día soleado e interior con 256 bins')\n",
    "compareImagesHists(diaSoleado, interior, 256)\n",
    "print('\\n')\n",
    "\n",
    "print('Comparación de día nublado e interior con 2 bins')\n",
    "compareImagesHists(diaSombra, interior, 2)\n",
    "print('\\n')\n",
    "print('Comparación de día nublado e interior con 16 bins')\n",
    "compareImagesHists(diaSombra, interior, 16)\n",
    "print('\\n')\n",
    "print('Comparación de día nublado e interior con 256 bins')\n",
    "compareImagesHists(diaSombra, interior, 256)\n",
    "print('\\n')"
   ]
  },
  {
   "cell_type": "code",
   "execution_count": 21,
   "id": "8bdcfef0-01ed-4ba6-b1b5-53ffbf2def15",
   "metadata": {},
   "outputs": [
    {
     "name": "stdout",
     "output_type": "stream",
     "text": [
      "Comparación de día soleado e interior con 8 bins\n",
      "--------------------------------------------------\n",
      "Por correlación: 0.9845474141427878\n",
      "Por chi-cuadrado: 167130068.1452676\n",
      "Por intersección: 15669456.133637428\n",
      "Por distancia Bhattacharyya: 0.1531451396975313\n",
      "\n",
      "\n",
      "Comparación de día soleado e interior con 32 bins\n",
      "--------------------------------------------------\n",
      "Por correlación: 0.917387183639561\n",
      "Por chi-cuadrado: 57327462.396031946\n",
      "Por intersección: 25856956.72581482\n",
      "Por distancia Bhattacharyya: 0.20908802759677605\n",
      "\n",
      "\n",
      "Comparación de día nublado e interior con 8 bins\n",
      "--------------------------------------------------\n",
      "Por correlación: 0.6837736750292528\n",
      "Por chi-cuadrado: 13762049.715555586\n",
      "Por intersección: 24659117.01953125\n",
      "Por distancia Bhattacharyya: 0.26162658252057663\n",
      "\n",
      "\n",
      "Comparación de día nublado e interior con 32 bins\n",
      "--------------------------------------------------\n",
      "Por correlación: 0.7153919447491016\n",
      "Por chi-cuadrado: 15394857.70518144\n",
      "Por intersección: 29852664.508758545\n",
      "Por distancia Bhattacharyya: 0.25380552881321006\n",
      "\n",
      "\n"
     ]
    }
   ],
   "source": [
    "print('Comparación de día soleado e interior con 8 bins')\n",
    "compareImagesHists(diaSoleado, interior, 8)\n",
    "print('\\n')\n",
    "print('Comparación de día soleado e interior con 32 bins')\n",
    "compareImagesHists(diaSoleado, interior, 32)\n",
    "print('\\n')\n",
    "\n",
    "print('Comparación de día nublado e interior con 8 bins')\n",
    "compareImagesHists(diaSombra, interior, 8)\n",
    "print('\\n')\n",
    "print('Comparación de día nublado e interior con 32 bins')\n",
    "compareImagesHists(diaSombra, interior, 32)\n",
    "print('\\n')"
   ]
  },
  {
   "cell_type": "code",
   "execution_count": null,
   "id": "d21f2e49-9d56-41e8-93f7-838de35017ce",
   "metadata": {},
   "outputs": [],
   "source": []
  }
 ],
 "metadata": {
  "kernelspec": {
   "display_name": "Python 3 (ipykernel)",
   "language": "python",
   "name": "python3"
  },
  "language_info": {
   "codemirror_mode": {
    "name": "ipython",
    "version": 3
   },
   "file_extension": ".py",
   "mimetype": "text/x-python",
   "name": "python",
   "nbconvert_exporter": "python",
   "pygments_lexer": "ipython3",
   "version": "3.10.12"
  }
 },
 "nbformat": 4,
 "nbformat_minor": 5
}
