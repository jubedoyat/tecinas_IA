{
  "cells": [
    {
      "cell_type": "code",
      "execution_count": null,
      "id": "1343efd2-c998-4ae5-b974-e40380f788a0",
      "metadata": {
        "id": "1343efd2-c998-4ae5-b974-e40380f788a0"
      },
      "outputs": [],
      "source": [
        "# Importa la biblioteca NumPy para realizar operaciones numéricas y manipulación de matrices.\n",
        "import numpy as np\n",
        "\n",
        "# Importa la biblioteca OpenCV para procesamiento de imágenes y visión computacional.\n",
        "import cv2 as cv\n",
        "\n",
        "# Importa el módulo \"sys\" para interactuar con el sistema operativo y acceder a sus funcionalidades.\n",
        "import sys\n"
      ]
    },
    {
      "cell_type": "code",
      "execution_count": null,
      "id": "c0033b85-15f1-4cca-a4c4-ee0b0ce4e9f5",
      "metadata": {
        "id": "c0033b85-15f1-4cca-a4c4-ee0b0ce4e9f5"
      },
      "outputs": [],
      "source": [
        "# Lee la imagen \"dia-soleado.jpeg\" desde la ubicación especificada y divide los canales de color.\n",
        "# Guarda los canales divididos en la variable diaSoleado.\n",
        "diaSoleado = cv.split(cv.imread('/home/juan/Documentos/Documentos_UN/2024-1/Clases/Tecnicas_de_IA/Taller_1/dia-soleado.jpeg'))\n",
        "\n",
        "# Lee la imagen \"dia-sombra.jpeg\" desde la ubicación especificada y divide los canales de color.\n",
        "# Guarda los canales divididos en la variable diaSombra.\n",
        "diaSombra = cv.split(cv.imread('/home/juan/Documentos/Documentos_UN/2024-1/Clases/Tecnicas_de_IA/Taller_1/dia-sombra.jpeg'))\n",
        "\n",
        "# Lee la imagen \"interior.jpeg\" desde la ubicación especificada y divide los canales de color.\n",
        "# Guarda los canales divididos en la variable interior.\n",
        "interior = cv.split(cv.imread('/home/juan/Documentos/Documentos_UN/2024-1/Clases/Tecnicas_de_IA/Taller_1/interior.jpeg'))\n"
      ]
    },
    {
      "cell_type": "code",
      "execution_count": null,
      "id": "6bb00372-2179-4996-8f65-a8bfcc27e0c5",
      "metadata": {
        "id": "6bb00372-2179-4996-8f65-a8bfcc27e0c5"
      },
      "outputs": [],
      "source": [
        "def compareHistograms(a, b):\n",
        "    \"\"\"\n",
        "    Compara dos histogramas utilizando diferentes métodos de comparación.\n",
        "\n",
        "    Parámetros:\n",
        "        - a: Histograma a comparar.\n",
        "        - b: Histograma de referencia.\n",
        "\n",
        "    Retorna:\n",
        "        - comparisons: Lista de diferencias calculadas entre los histogramas para cada método de comparación.\n",
        "    \"\"\"\n",
        "    # Inicializa una lista para almacenar las comparaciones.\n",
        "    comparisons = []\n",
        "\n",
        "    # Itera sobre los diferentes métodos de comparación disponibles (0 a 3).\n",
        "    for method in range(4):\n",
        "        # Compara los histogramas utilizando el método específico.\n",
        "        d = cv.compareHist(a, b, method)\n",
        "\n",
        "        # Agrega el resultado de la comparación a la lista de comparaciones.\n",
        "        comparisons.append(d)\n",
        "\n",
        "    # Retorna la lista de comparaciones.\n",
        "    return comparisons\n"
      ]
    },
    {
      "cell_type": "code",
      "execution_count": null,
      "id": "c15a2b21-d1fa-46f0-a528-dd1222f06063",
      "metadata": {
        "id": "c15a2b21-d1fa-46f0-a528-dd1222f06063"
      },
      "outputs": [],
      "source": [
        "def normalizeHistogram(hist):\n",
        "    \"\"\"\n",
        "    Normaliza un histograma utilizando la función de distribución acumulativa (CDF).\n",
        "\n",
        "    Parámetros:\n",
        "        - hist: Histograma a normalizar.\n",
        "\n",
        "    Retorna:\n",
        "        - Histograma normalizado.\n",
        "    \"\"\"\n",
        "    # Calcula la función de distribución acumulativa (CDF) del histograma.\n",
        "    cdf = hist.cumsum()\n",
        "\n",
        "    # Normaliza el histograma multiplicando cada valor por el valor máximo del histograma original\n",
        "    # y dividiendo por el valor máximo de la función de distribución acumulativa.\n",
        "    normalized_hist = cdf * hist.max() / cdf.max()\n",
        "\n",
        "    # Retorna el histograma normalizado.\n",
        "    return normalized_hist\n"
      ]
    },
    {
      "cell_type": "code",
      "execution_count": null,
      "id": "9dbd0a7b-e9bd-4c32-b453-6da2d3497a47",
      "metadata": {
        "id": "9dbd0a7b-e9bd-4c32-b453-6da2d3497a47"
      },
      "outputs": [],
      "source": [
        "def compareImagesHists(img1, img2, bins):\n",
        "    \"\"\"\n",
        "    Compara los histogramas de dos imágenes utilizando diferentes métodos de comparación.\n",
        "\n",
        "    Parámetros:\n",
        "        - img1: Primera imagen a comparar.\n",
        "        - img2: Segunda imagen a comparar.\n",
        "        - bins: Número de contenedores para el histograma.\n",
        "\n",
        "    Retorna:\n",
        "        No hay valor de retorno explícito, pero imprime los resultados de las comparaciones\n",
        "        utilizando diferentes métodos.\n",
        "    \"\"\"\n",
        "    # Calcula los histogramas de las dos imágenes utilizando el mismo número de contenedores.\n",
        "    currentHistImg1, bins1 = np.histogram(img1, bins, [0, 256])\n",
        "    currentHistImg2, bins2 = np.histogram(img2, bins, [0, 256])\n",
        "\n",
        "    # Normaliza los histogramas de ambas imágenes.\n",
        "    currNormalizedHist1 = normalizeHistogram(currentHistImg1).astype(np.float32)\n",
        "    currNormalizedHist2 = normalizeHistogram(currentHistImg2).astype(np.float32)\n",
        "\n",
        "    # Compara los histogramas normalizados utilizando la función previamente definida.\n",
        "    comps = compareHistograms(currNormalizedHist1, currNormalizedHist2)\n",
        "\n",
        "    # Imprime los resultados de las comparaciones utilizando diferentes métodos.\n",
        "    print('--------------------------------------------------')\n",
        "    for i in range(4):\n",
        "        if i == 0:\n",
        "            print('Por correlación: {}'.format(comps[i]))\n",
        "        if i == 1:\n",
        "            print('Por chi-cuadrado: {}'.format(comps[i]))\n",
        "        if i == 2:\n",
        "            print('Por intersección: {}'.format(comps[i]))\n",
        "        if i == 3:\n",
        "            print('Por distancia Bhattacharyya: {}'.format(comps[i]))\n"
      ]
    },
    {
      "cell_type": "code",
      "execution_count": null,
      "id": "51fdb3fc-0668-41ad-a5f3-5d2d38d4bbd2",
      "metadata": {
        "id": "51fdb3fc-0668-41ad-a5f3-5d2d38d4bbd2"
      },
      "outputs": [],
      "source": [
        "# Imprime un encabezado indicando la comparación entre imágenes de día soleado y día nublado con 2 bins.\n",
        "print('Comparación de día soleado y día nublado con 2 bins')\n",
        "\n",
        "# Llama a la función compareImagesHists para comparar las imágenes de día soleado y día nublado con 2 bins.\n",
        "compareImagesHists(diaSoleado, diaSombra, 2)\n",
        "print('\\n')\n",
        "\n",
        "# Imprime un encabezado indicando la comparación entre imágenes de día soleado y día nublado con 16 bins.\n",
        "print('Comparación de día soleado y día nublado con 16 bins')\n",
        "\n",
        "# Llama a la función compareImagesHists para comparar las imágenes de día soleado y día nublado con 16 bins.\n",
        "compareImagesHists(diaSoleado, diaSombra, 16)\n",
        "print('\\n')\n",
        "\n",
        "# Imprime un encabezado indicando la comparación entre imágenes de día soleado y día nublado con 256 bins.\n",
        "print('Comparación de día soleado y día nublado con 256 bins')\n",
        "\n",
        "# Llama a la función compareImagesHists para comparar las imágenes de día soleado y día nublado con 256 bins.\n",
        "compareImagesHists(diaSoleado, diaSombra, 256)\n",
        "print('\\n')\n",
        "\n",
        "# Imprime un encabezado indicando la comparación entre imágenes de día soleado e interior con 2 bins.\n",
        "print('Comparación de día soleado e interior con 2 bins')\n",
        "\n",
        "# Llama a la función compareImagesHists para comparar las imágenes de día soleado e interior con 2 bins.\n",
        "compareImagesHists(diaSoleado, interior, 2)\n",
        "print('\\n')\n",
        "\n",
        "# Imprime un encabezado indicando la comparación entre imágenes de día soleado e interior con 16 bins.\n",
        "print('Comparación de día soleado e interior con 16 bins')\n",
        "\n",
        "# Llama a la función compareImagesHists para comparar las imágenes de día soleado e interior con 16 bins.\n",
        "compareImagesHists(diaSoleado, interior, 16)\n",
        "print('\\n')\n",
        "\n",
        "# Imprime un encabezado indicando la comparación entre imágenes de día soleado e interior con 256 bins.\n",
        "print('Comparación de día soleado e interior con 256 bins')\n",
        "\n",
        "# Llama a la función compareImagesHists para comparar las imágenes de día soleado e interior con 256 bins.\n",
        "compareImagesHists(diaSoleado, interior, 256)\n",
        "print('\\n')\n",
        "\n",
        "# Imprime un encabezado indicando la comparación entre imágenes de día nublado e interior con 2 bins.\n",
        "print('Comparación de día nublado e interior con 2 bins')\n",
        "\n",
        "# Llama a la función compareImagesHists para comparar las imágenes de día nublado e interior con 2 bins.\n",
        "compareImagesHists(diaSombra, interior, 2)\n",
        "print('\\n')\n",
        "\n",
        "# Imprime un encabezado indicando la comparación entre imágenes de día nublado e interior con 16 bins.\n",
        "print('Comparación de día nublado e interior con 16 bins')\n",
        "\n",
        "# Llama a la función compareImagesHists para comparar las imágenes de día nublado e interior con 16 bins.\n",
        "compareImagesHists(diaSombra, interior, 16)\n",
        "print('\\n')\n",
        "\n",
        "# Imprime un encabezado indicando la comparación entre imágenes\n"
      ]
    },
    {
      "cell_type": "code",
      "execution_count": null,
      "id": "8bdcfef0-01ed-4ba6-b1b5-53ffbf2def15",
      "metadata": {
        "id": "8bdcfef0-01ed-4ba6-b1b5-53ffbf2def15"
      },
      "outputs": [],
      "source": [
        "# Imprime un encabezado indicando la comparación entre imágenes de día soleado e interior con 8 bins.\n",
        "print('Comparación de día soleado e interior con 8 bins')\n",
        "\n",
        "# Llama a la función compareImagesHists para comparar las imágenes de día soleado e interior con 8 bins.\n",
        "compareImagesHists(diaSoleado, interior, 8)\n",
        "print('\\n')\n",
        "\n",
        "# Imprime un encabezado indicando la comparación entre imágenes de día soleado e interior con 32 bins.\n",
        "print('Comparación de día soleado e interior con 32 bins')\n",
        "\n",
        "# Llama a la función compareImagesHists para comparar las imágenes de día soleado e interior con 32 bins.\n",
        "compareImagesHists(diaSoleado, interior, 32)\n",
        "print('\\n')\n",
        "\n",
        "# Imprime un encabezado indicando la comparación entre imágenes de día nublado e interior con 8 bins.\n",
        "print('Comparación de día nublado e interior con 8 bins')\n",
        "\n",
        "# Llama a la función compareImagesHists para comparar las imágenes de día nublado e interior con 8 bins.\n",
        "compareImagesHists(diaSombra, interior, 8)\n",
        "print('\\n')\n",
        "\n",
        "# Imprime un encabezado indicando la comparación entre imágenes de día nublado e interior con 32 bins.\n",
        "print('Comparación de día nublado e interior con 32 bins')\n",
        "\n",
        "# Llama a la función compareImagesHists para comparar las imágenes de día nublado e interior con 32 bins.\n",
        "compareImagesHists(diaSombra, interior, 32)\n",
        "print('\\n')\n"
      ]
    },
    {
      "cell_type": "code",
      "execution_count": null,
      "id": "d21f2e49-9d56-41e8-93f7-838de35017ce",
      "metadata": {
        "id": "d21f2e49-9d56-41e8-93f7-838de35017ce"
      },
      "outputs": [],
      "source": []
    }
  ],
  "metadata": {
    "kernelspec": {
      "display_name": "Python 3 (ipykernel)",
      "language": "python",
      "name": "python3"
    },
    "language_info": {
      "codemirror_mode": {
        "name": "ipython",
        "version": 3
      },
      "file_extension": ".py",
      "mimetype": "text/x-python",
      "name": "python",
      "nbconvert_exporter": "python",
      "pygments_lexer": "ipython3",
      "version": "3.10.12"
    },
    "colab": {
      "provenance": []
    }
  },
  "nbformat": 4,
  "nbformat_minor": 5
}