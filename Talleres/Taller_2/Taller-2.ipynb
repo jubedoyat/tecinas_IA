{
 "cells": [
  {
   "cell_type": "code",
   "execution_count": 7,
   "id": "483422a4-bf06-4d80-b61e-98395db2feab",
   "metadata": {},
   "outputs": [],
   "source": [
    "import cv2\n",
    "import numpy as np\n",
    "import matplotlib as mp\n",
    "import math"
   ]
  },
  {
   "cell_type": "code",
   "execution_count": 12,
   "id": "0b560267-148f-411c-b47a-c376b7089b17",
   "metadata": {},
   "outputs": [],
   "source": [
    "def getMagnitudes(imgA, imgB):\n",
    "    return np.sqrt(np.power(imgA, 2)+np.power(imgB, 2))"
   ]
  },
  {
   "cell_type": "code",
   "execution_count": 13,
   "id": "4d4e01b8-0f93-490f-a428-f290fc40bf1b",
   "metadata": {},
   "outputs": [],
   "source": [
    "def prewitt(img):\n",
    "    kernels = [\n",
    "        [\n",
    "            [-1, -1, -1],\n",
    "            [0, 0, 0],\n",
    "            [1, 1, 1]\n",
    "        ],\n",
    "        [\n",
    "            [-1, 0, 1],\n",
    "            [-1, 0, 1],\n",
    "            [-1, 0, 1]\n",
    "        ],\n",
    "        [\n",
    "            [0, 1, 1],\n",
    "            [-1, 0, 1],\n",
    "            [-1, -1, 0]\n",
    "        ],\n",
    "        [\n",
    "            [1, 1, 0],\n",
    "            [1, 0, -1],\n",
    "            [0, -1, -1]\n",
    "        ],\n",
    "        [\n",
    "            [1, 1, 1],\n",
    "            [0, 0, 0],\n",
    "            [-1, -1, -1]\n",
    "        ],\n",
    "        [\n",
    "            [1, 0, -1],\n",
    "            [1, 0, -1],\n",
    "            [1, 0, -1]\n",
    "        ],\n",
    "        [\n",
    "            [0, -1, -1],\n",
    "            [1, 0, -1],\n",
    "            [1, 1, 0]\n",
    "        ],\n",
    "        [\n",
    "            [-1, -1, 0],\n",
    "            [-1, 0, 1],\n",
    "            [0, 1, 1]\n",
    "        ],\n",
    "    ]\n",
    "\n",
    "    filteredImages = [cv2.filter2D(img, -1, kernel) for kernel in kernels]\n",
    "\n",
    "    magnitudes = []\n",
    "\n",
    "    for i in range(len(filteredImages)):\n",
    "        if i <= 3:\n",
    "            j = i+4\n",
    "        elif i > 3:\n",
    "            j = i-4\n",
    "        magnitudes.append(getMagnitudes(filteredImages[i], filteredImages[j]))\n",
    "\n",
    "    "
   ]
  }
 ],
 "metadata": {
  "kernelspec": {
   "display_name": "Python 3 (ipykernel)",
   "language": "python",
   "name": "python3"
  },
  "language_info": {
   "codemirror_mode": {
    "name": "ipython",
    "version": 3
   },
   "file_extension": ".py",
   "mimetype": "text/x-python",
   "name": "python",
   "nbconvert_exporter": "python",
   "pygments_lexer": "ipython3",
   "version": "3.10.12"
  }
 },
 "nbformat": 4,
 "nbformat_minor": 5
}
